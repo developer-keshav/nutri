{
 "cells": [
  {
   "cell_type": "code",
   "execution_count": 1,
   "metadata": {},
   "outputs": [
    {
     "data": {
      "text/html": [
       "<div>\n",
       "<style>\n",
       "    .dataframe thead tr:only-child th {\n",
       "        text-align: right;\n",
       "    }\n",
       "\n",
       "    .dataframe thead th {\n",
       "        text-align: left;\n",
       "    }\n",
       "\n",
       "    .dataframe tbody tr th {\n",
       "        vertical-align: top;\n",
       "    }\n",
       "</style>\n",
       "<table border=\"1\" class=\"dataframe\">\n",
       "  <thead>\n",
       "    <tr style=\"text-align: right;\">\n",
       "      <th></th>\n",
       "      <th>Name</th>\n",
       "      <th>value</th>\n",
       "    </tr>\n",
       "  </thead>\n",
       "  <tbody>\n",
       "    <tr>\n",
       "      <th>0</th>\n",
       "      <td>a</td>\n",
       "      <td>10</td>\n",
       "    </tr>\n",
       "    <tr>\n",
       "      <th>1</th>\n",
       "      <td>b</td>\n",
       "      <td>20</td>\n",
       "    </tr>\n",
       "    <tr>\n",
       "      <th>2</th>\n",
       "      <td>c</td>\n",
       "      <td>30</td>\n",
       "    </tr>\n",
       "    <tr>\n",
       "      <th>3</th>\n",
       "      <td>d</td>\n",
       "      <td>40</td>\n",
       "    </tr>\n",
       "    <tr>\n",
       "      <th>4</th>\n",
       "      <td>e</td>\n",
       "      <td>50</td>\n",
       "    </tr>\n",
       "    <tr>\n",
       "      <th>5</th>\n",
       "      <td>f</td>\n",
       "      <td>60</td>\n",
       "    </tr>\n",
       "    <tr>\n",
       "      <th>6</th>\n",
       "      <td>g</td>\n",
       "      <td>70</td>\n",
       "    </tr>\n",
       "    <tr>\n",
       "      <th>7</th>\n",
       "      <td>h</td>\n",
       "      <td>80</td>\n",
       "    </tr>\n",
       "    <tr>\n",
       "      <th>8</th>\n",
       "      <td>i</td>\n",
       "      <td>90</td>\n",
       "    </tr>\n",
       "    <tr>\n",
       "      <th>9</th>\n",
       "      <td>j</td>\n",
       "      <td>100</td>\n",
       "    </tr>\n",
       "  </tbody>\n",
       "</table>\n",
       "</div>"
      ],
      "text/plain": [
       "  Name  value\n",
       "0    a     10\n",
       "1    b     20\n",
       "2    c     30\n",
       "3    d     40\n",
       "4    e     50\n",
       "5    f     60\n",
       "6    g     70\n",
       "7    h     80\n",
       "8    i     90\n",
       "9    j    100"
      ]
     },
     "execution_count": 1,
     "metadata": {},
     "output_type": "execute_result"
    }
   ],
   "source": [
    "import pandas as pd\n",
    "\n",
    "Mov = pd.read_excel('/home/o2i/mynu.xlsx')\n",
    "Mov"
   ]
  },
  {
   "cell_type": "code",
   "execution_count": 34,
   "metadata": {},
   "outputs": [
    {
     "name": "stdout",
     "output_type": "stream",
     "text": [
      "Enter the number:60\n",
      "first item = a the second item = a  the third item = d\n",
      "first item = a the second item = b  the third item = c\n",
      "first item = a the second item = e\n",
      "first item = b the second item = b  the third item = b\n",
      "first item = b the second item = d\n",
      "first item = c the second item = c\n",
      "f\n"
     ]
    }
   ],
   "source": [
    "x = int(input(\"Enter the number:\"))\n",
    "\n",
    "a = Mov.value\n",
    "b = Mov.Name\n",
    "\n",
    "for n in range(len(a)):\n",
    "    if a[n]==x:\n",
    "        print(b[n])\n",
    "    for y in range(n,len(a)):\n",
    "        t = a[n] + a[y]\n",
    "        if t == x:\n",
    "            print(\"first item = %c the second item = %c\"%(b[n],b[y]))\n",
    "        else:\n",
    "            for z in range(y,len(a)):\n",
    "                if(a[z]+t) == x:\n",
    "                    print(\"first item = %c the second item = %c  the third item = %c\"%(b[n],b[y],b[z]))\n",
    "\n",
    "   "
   ]
  },
  {
   "cell_type": "code",
   "execution_count": 21,
   "metadata": {},
   "outputs": [
    {
     "name": "stdout",
     "output_type": "stream",
     "text": [
      "Enter the number:9\n",
      "the first number= 4 the second number 5\n",
      "the first number= 5 the second number 4\n",
      "the first number= 7 the second number 2\n",
      "the first number= 2 the second number 7\n"
     ]
    }
   ],
   "source": [
    "x = [1, 4, 5, 7, 9, 6, 2]\n",
    "target = int(input(\"Enter the number:\"))\n",
    "for i in range(len(x)):\n",
    "    for ii in range(len(x))\n",
    "        if (x[i] + x[ii]) == target:\n",
    "            print (\"the first number= %d the second number %d\" % (x[i], x[ii]))"
   ]
  },
  {
   "cell_type": "code",
   "execution_count": null,
   "metadata": {
    "collapsed": true
   },
   "outputs": [],
   "source": []
  }
 ],
 "metadata": {
  "kernelspec": {
   "display_name": "Python 3",
   "language": "python",
   "name": "python3"
  },
  "language_info": {
   "codemirror_mode": {
    "name": "ipython",
    "version": 3
   },
   "file_extension": ".py",
   "mimetype": "text/x-python",
   "name": "python",
   "nbconvert_exporter": "python",
   "pygments_lexer": "ipython3",
   "version": "3.6.3"
  }
 },
 "nbformat": 4,
 "nbformat_minor": 2
}
